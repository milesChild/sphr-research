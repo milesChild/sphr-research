{
 "cells": [
  {
   "cell_type": "markdown",
   "metadata": {},
   "source": [
    "# Objectives:\n"
   ]
  },
  {
   "cell_type": "code",
   "execution_count": 2,
   "metadata": {},
   "outputs": [],
   "source": [
    "# imports\n",
    "import pandas as pd\n",
    "import numpy as np\n",
    "import plotly.graph_objects as go\n",
    "import requests\n",
    "from credentials import CONSUMER_KEY"
   ]
  },
  {
   "cell_type": "code",
   "execution_count": 4,
   "metadata": {},
   "outputs": [],
   "source": [
    "# venue id\n",
    "SPHR_ID=\"KovZ917Atbr\""
   ]
  },
  {
   "cell_type": "code",
   "execution_count": 32,
   "metadata": {},
   "outputs": [
    {
     "name": "stdout",
     "output_type": "stream",
     "text": [
      "Error fetching events: 400, Response: {\"errors\":[{\"code\":\"DIS1035\",\"detail\":\"API Limits Exceeded: Max paging depth exceeded. (page * size) must be less than 1,000\",\"status\":\"400\",\"_links\":{\"about\":{\"href\":\"/discovery/v2/errors.html#DIS1035\"}}}]}\n",
      "1100 known events\n"
     ]
    }
   ],
   "source": [
    "import requests\n",
    "import time\n",
    "\n",
    "base_url = 'https://app.ticketmaster.com/discovery/v2/events.json'\n",
    "all_events = []\n",
    "page_number = 0\n",
    "page_size = 100  # Reduced page size\n",
    "\n",
    "while True:\n",
    "    params = {\n",
    "        'apikey': CONSUMER_KEY,\n",
    "        'venueId': SPHR_ID,\n",
    "        'size': page_size,\n",
    "        'page': page_number\n",
    "    }\n",
    "\n",
    "    response = requests.get(base_url, params=params)\n",
    "    if response.status_code == 200:\n",
    "        data = response.json()\n",
    "\n",
    "        if '_embedded' in data:\n",
    "            page_events = data['_embedded']['events']\n",
    "            all_events.extend(page_events)\n",
    "\n",
    "            if 'next' in data['_links']:\n",
    "                page_number += 1\n",
    "            else:\n",
    "                break\n",
    "        else:\n",
    "            print(\"No more events found.\")\n",
    "            break\n",
    "    else:\n",
    "        print(f\"Error fetching events: {response.status_code}, Response: {response.text}\")\n",
    "        break\n",
    "\n",
    "    time.sleep(1)  # Be nice to the API\n",
    "\n",
    "# now get everything from the 6th page\n",
    "page_number = 6\n",
    "params = {\n",
    "    'apikey': CONSUMER_KEY,\n",
    "    'venueId': SPHR_ID,\n",
    "    'size': page_size,\n",
    "    'page': page_number\n",
    "}\n",
    "\n",
    "response = requests.get(base_url, params=params)\n",
    "if response.status_code == 200:\n",
    "    data = response.json()\n",
    "\n",
    "    if '_embedded' in data:\n",
    "        page_events = data['_embedded']['events']\n",
    "        all_events.extend(page_events)\n",
    "    else:\n",
    "        print(\"No more events found.\")\n",
    "else:\n",
    "    print(f\"Error fetching events: {response.status_code}, Response: {response.text}\")\n",
    "\n",
    "print(f\"{len(all_events)} known events\")"
   ]
  },
  {
   "cell_type": "code",
   "execution_count": 33,
   "metadata": {},
   "outputs": [
    {
     "data": {
      "text/html": [
       "<div>\n",
       "<style scoped>\n",
       "    .dataframe tbody tr th:only-of-type {\n",
       "        vertical-align: middle;\n",
       "    }\n",
       "\n",
       "    .dataframe tbody tr th {\n",
       "        vertical-align: top;\n",
       "    }\n",
       "\n",
       "    .dataframe thead th {\n",
       "        text-align: right;\n",
       "    }\n",
       "</style>\n",
       "<table border=\"1\" class=\"dataframe\">\n",
       "  <thead>\n",
       "    <tr style=\"text-align: right;\">\n",
       "      <th></th>\n",
       "      <th>name</th>\n",
       "      <th>type</th>\n",
       "      <th>id</th>\n",
       "      <th>url</th>\n",
       "      <th>sales</th>\n",
       "      <th>dates</th>\n",
       "      <th>classifications</th>\n",
       "      <th>promoters</th>\n",
       "      <th>info</th>\n",
       "      <th>pleaseNote</th>\n",
       "      <th>priceRanges</th>\n",
       "      <th>seatmap</th>\n",
       "      <th>accessibility</th>\n",
       "      <th>ticketLimit</th>\n",
       "      <th>ageRestrictions</th>\n",
       "      <th>ticketing</th>\n",
       "      <th>_links</th>\n",
       "    </tr>\n",
       "  </thead>\n",
       "  <tbody>\n",
       "    <tr>\n",
       "      <th>0</th>\n",
       "      <td>U2:UV Achtung Baby Live At Sphere - General Ad...</td>\n",
       "      <td>event</td>\n",
       "      <td>G5vjZ9VY73IV5</td>\n",
       "      <td>https://www.ticketmaster.com/u2uv-achtung-baby...</td>\n",
       "      <td>{'public': {'startDateTime': '2023-10-25T18:00...</td>\n",
       "      <td>{'start': {'localDate': '2024-01-27', 'localTi...</td>\n",
       "      <td>[{'primary': True, 'segment': {'id': 'KZFzniwn...</td>\n",
       "      <td>[{'id': '653', 'name': 'LIVE NATION MUSIC', 'd...</td>\n",
       "      <td>This event may include immersive elements such...</td>\n",
       "      <td>The artist wants to give fans, not scalpers, t...</td>\n",
       "      <td>[{'type': 'standard', 'currency': 'USD', 'min'...</td>\n",
       "      <td>{'staticUrl': 'https://maps.ticketmaster.com/m...</td>\n",
       "      <td>{'ticketLimit': 4}</td>\n",
       "      <td>{'info': 'There is a ticket limit of four (4) ...</td>\n",
       "      <td>{'legalAgeEnforced': False}</td>\n",
       "      <td>{'safeTix': {'enabled': True}, 'allInclusivePr...</td>\n",
       "      <td>{'self': {'href': '/discovery/v2/events/G5vjZ9...</td>\n",
       "    </tr>\n",
       "    <tr>\n",
       "      <th>1</th>\n",
       "      <td>U2:UV Achtung Baby Live At Sphere - General Ad...</td>\n",
       "      <td>event</td>\n",
       "      <td>G5vjZ9VY7mIVs</td>\n",
       "      <td>https://www.ticketmaster.com/u2uv-achtung-baby...</td>\n",
       "      <td>{'public': {'startDateTime': '2023-10-25T21:00...</td>\n",
       "      <td>{'start': {'localDate': '2024-02-17', 'localTi...</td>\n",
       "      <td>[{'primary': True, 'segment': {'id': 'KZFzniwn...</td>\n",
       "      <td>[{'id': '653', 'name': 'LIVE NATION MUSIC', 'd...</td>\n",
       "      <td>This event may include immersive elements such...</td>\n",
       "      <td>The artist wants to give fans, not scalpers, t...</td>\n",
       "      <td>[{'type': 'standard', 'currency': 'USD', 'min'...</td>\n",
       "      <td>{'staticUrl': 'https://maps.ticketmaster.com/m...</td>\n",
       "      <td>{'ticketLimit': 4}</td>\n",
       "      <td>{'info': 'There is a ticket limit of four (4) ...</td>\n",
       "      <td>{'legalAgeEnforced': False}</td>\n",
       "      <td>{'safeTix': {'enabled': True}, 'allInclusivePr...</td>\n",
       "      <td>{'self': {'href': '/discovery/v2/events/G5vjZ9...</td>\n",
       "    </tr>\n",
       "    <tr>\n",
       "      <th>2</th>\n",
       "      <td>U2:UV Achtung Baby Live At Sphere - General Ad...</td>\n",
       "      <td>event</td>\n",
       "      <td>G5vjZ9VY72IV6</td>\n",
       "      <td>https://www.ticketmaster.com/u2uv-achtung-baby...</td>\n",
       "      <td>{'public': {'startDateTime': '2023-10-25T18:00...</td>\n",
       "      <td>{'start': {'localDate': '2024-01-26', 'localTi...</td>\n",
       "      <td>[{'primary': True, 'segment': {'id': 'KZFzniwn...</td>\n",
       "      <td>[{'id': '653', 'name': 'LIVE NATION MUSIC', 'd...</td>\n",
       "      <td>This event may include immersive elements such...</td>\n",
       "      <td>The artist wants to give fans, not scalpers, t...</td>\n",
       "      <td>[{'type': 'standard', 'currency': 'USD', 'min'...</td>\n",
       "      <td>{'staticUrl': 'https://maps.ticketmaster.com/m...</td>\n",
       "      <td>{'ticketLimit': 4}</td>\n",
       "      <td>{'info': 'There is a ticket limit of four (4) ...</td>\n",
       "      <td>{'legalAgeEnforced': False}</td>\n",
       "      <td>{'safeTix': {'enabled': True}, 'allInclusivePr...</td>\n",
       "      <td>{'self': {'href': '/discovery/v2/events/G5vjZ9...</td>\n",
       "    </tr>\n",
       "    <tr>\n",
       "      <th>3</th>\n",
       "      <td>U2:UV Achtung Baby Live At Sphere - General Ad...</td>\n",
       "      <td>event</td>\n",
       "      <td>G5vjZ9VY7qzV_</td>\n",
       "      <td>https://www.ticketmaster.com/u2uv-achtung-baby...</td>\n",
       "      <td>{'public': {'startDateTime': '2023-10-25T19:00...</td>\n",
       "      <td>{'start': {'localDate': '2024-02-03', 'localTi...</td>\n",
       "      <td>[{'primary': True, 'segment': {'id': 'KZFzniwn...</td>\n",
       "      <td>[{'id': '653', 'name': 'LIVE NATION MUSIC', 'd...</td>\n",
       "      <td>This event may include immersive elements such...</td>\n",
       "      <td>The artist wants to give fans, not scalpers, t...</td>\n",
       "      <td>[{'type': 'standard', 'currency': 'USD', 'min'...</td>\n",
       "      <td>{'staticUrl': 'https://maps.ticketmaster.com/m...</td>\n",
       "      <td>{'ticketLimit': 4}</td>\n",
       "      <td>{'info': 'There is a ticket limit of four (4) ...</td>\n",
       "      <td>{'legalAgeEnforced': False}</td>\n",
       "      <td>{'safeTix': {'enabled': True}, 'allInclusivePr...</td>\n",
       "      <td>{'self': {'href': '/discovery/v2/events/G5vjZ9...</td>\n",
       "    </tr>\n",
       "    <tr>\n",
       "      <th>4</th>\n",
       "      <td>U2:UV Achtung Baby Live At Sphere - General Ad...</td>\n",
       "      <td>event</td>\n",
       "      <td>G5vjZ9USRXUxo</td>\n",
       "      <td>https://www.ticketmaster.com/u2uv-achtung-baby...</td>\n",
       "      <td>{'public': {'startDateTime': '2023-12-08T20:00...</td>\n",
       "      <td>{'start': {'localDate': '2024-03-02', 'localTi...</td>\n",
       "      <td>[{'primary': True, 'segment': {'id': 'KZFzniwn...</td>\n",
       "      <td>[{'id': '653', 'name': 'LIVE NATION MUSIC', 'd...</td>\n",
       "      <td>This event may include immersive elements such...</td>\n",
       "      <td>This event may include immersive elements such...</td>\n",
       "      <td>[{'type': 'standard', 'currency': 'USD', 'min'...</td>\n",
       "      <td>{'staticUrl': 'https://maps.ticketmaster.com/m...</td>\n",
       "      <td>{}</td>\n",
       "      <td>{'info': 'There is a ticket limit of four (4) ...</td>\n",
       "      <td>{'legalAgeEnforced': False}</td>\n",
       "      <td>{'safeTix': {'enabled': True}, 'allInclusivePr...</td>\n",
       "      <td>{'self': {'href': '/discovery/v2/events/G5vjZ9...</td>\n",
       "    </tr>\n",
       "  </tbody>\n",
       "</table>\n",
       "</div>"
      ],
      "text/plain": [
       "                                                name   type             id  \\\n",
       "0  U2:UV Achtung Baby Live At Sphere - General Ad...  event  G5vjZ9VY73IV5   \n",
       "1  U2:UV Achtung Baby Live At Sphere - General Ad...  event  G5vjZ9VY7mIVs   \n",
       "2  U2:UV Achtung Baby Live At Sphere - General Ad...  event  G5vjZ9VY72IV6   \n",
       "3  U2:UV Achtung Baby Live At Sphere - General Ad...  event  G5vjZ9VY7qzV_   \n",
       "4  U2:UV Achtung Baby Live At Sphere - General Ad...  event  G5vjZ9USRXUxo   \n",
       "\n",
       "                                                 url  \\\n",
       "0  https://www.ticketmaster.com/u2uv-achtung-baby...   \n",
       "1  https://www.ticketmaster.com/u2uv-achtung-baby...   \n",
       "2  https://www.ticketmaster.com/u2uv-achtung-baby...   \n",
       "3  https://www.ticketmaster.com/u2uv-achtung-baby...   \n",
       "4  https://www.ticketmaster.com/u2uv-achtung-baby...   \n",
       "\n",
       "                                               sales  \\\n",
       "0  {'public': {'startDateTime': '2023-10-25T18:00...   \n",
       "1  {'public': {'startDateTime': '2023-10-25T21:00...   \n",
       "2  {'public': {'startDateTime': '2023-10-25T18:00...   \n",
       "3  {'public': {'startDateTime': '2023-10-25T19:00...   \n",
       "4  {'public': {'startDateTime': '2023-12-08T20:00...   \n",
       "\n",
       "                                               dates  \\\n",
       "0  {'start': {'localDate': '2024-01-27', 'localTi...   \n",
       "1  {'start': {'localDate': '2024-02-17', 'localTi...   \n",
       "2  {'start': {'localDate': '2024-01-26', 'localTi...   \n",
       "3  {'start': {'localDate': '2024-02-03', 'localTi...   \n",
       "4  {'start': {'localDate': '2024-03-02', 'localTi...   \n",
       "\n",
       "                                     classifications  \\\n",
       "0  [{'primary': True, 'segment': {'id': 'KZFzniwn...   \n",
       "1  [{'primary': True, 'segment': {'id': 'KZFzniwn...   \n",
       "2  [{'primary': True, 'segment': {'id': 'KZFzniwn...   \n",
       "3  [{'primary': True, 'segment': {'id': 'KZFzniwn...   \n",
       "4  [{'primary': True, 'segment': {'id': 'KZFzniwn...   \n",
       "\n",
       "                                           promoters  \\\n",
       "0  [{'id': '653', 'name': 'LIVE NATION MUSIC', 'd...   \n",
       "1  [{'id': '653', 'name': 'LIVE NATION MUSIC', 'd...   \n",
       "2  [{'id': '653', 'name': 'LIVE NATION MUSIC', 'd...   \n",
       "3  [{'id': '653', 'name': 'LIVE NATION MUSIC', 'd...   \n",
       "4  [{'id': '653', 'name': 'LIVE NATION MUSIC', 'd...   \n",
       "\n",
       "                                                info  \\\n",
       "0  This event may include immersive elements such...   \n",
       "1  This event may include immersive elements such...   \n",
       "2  This event may include immersive elements such...   \n",
       "3  This event may include immersive elements such...   \n",
       "4  This event may include immersive elements such...   \n",
       "\n",
       "                                          pleaseNote  \\\n",
       "0  The artist wants to give fans, not scalpers, t...   \n",
       "1  The artist wants to give fans, not scalpers, t...   \n",
       "2  The artist wants to give fans, not scalpers, t...   \n",
       "3  The artist wants to give fans, not scalpers, t...   \n",
       "4  This event may include immersive elements such...   \n",
       "\n",
       "                                         priceRanges  \\\n",
       "0  [{'type': 'standard', 'currency': 'USD', 'min'...   \n",
       "1  [{'type': 'standard', 'currency': 'USD', 'min'...   \n",
       "2  [{'type': 'standard', 'currency': 'USD', 'min'...   \n",
       "3  [{'type': 'standard', 'currency': 'USD', 'min'...   \n",
       "4  [{'type': 'standard', 'currency': 'USD', 'min'...   \n",
       "\n",
       "                                             seatmap       accessibility  \\\n",
       "0  {'staticUrl': 'https://maps.ticketmaster.com/m...  {'ticketLimit': 4}   \n",
       "1  {'staticUrl': 'https://maps.ticketmaster.com/m...  {'ticketLimit': 4}   \n",
       "2  {'staticUrl': 'https://maps.ticketmaster.com/m...  {'ticketLimit': 4}   \n",
       "3  {'staticUrl': 'https://maps.ticketmaster.com/m...  {'ticketLimit': 4}   \n",
       "4  {'staticUrl': 'https://maps.ticketmaster.com/m...                  {}   \n",
       "\n",
       "                                         ticketLimit  \\\n",
       "0  {'info': 'There is a ticket limit of four (4) ...   \n",
       "1  {'info': 'There is a ticket limit of four (4) ...   \n",
       "2  {'info': 'There is a ticket limit of four (4) ...   \n",
       "3  {'info': 'There is a ticket limit of four (4) ...   \n",
       "4  {'info': 'There is a ticket limit of four (4) ...   \n",
       "\n",
       "               ageRestrictions  \\\n",
       "0  {'legalAgeEnforced': False}   \n",
       "1  {'legalAgeEnforced': False}   \n",
       "2  {'legalAgeEnforced': False}   \n",
       "3  {'legalAgeEnforced': False}   \n",
       "4  {'legalAgeEnforced': False}   \n",
       "\n",
       "                                           ticketing  \\\n",
       "0  {'safeTix': {'enabled': True}, 'allInclusivePr...   \n",
       "1  {'safeTix': {'enabled': True}, 'allInclusivePr...   \n",
       "2  {'safeTix': {'enabled': True}, 'allInclusivePr...   \n",
       "3  {'safeTix': {'enabled': True}, 'allInclusivePr...   \n",
       "4  {'safeTix': {'enabled': True}, 'allInclusivePr...   \n",
       "\n",
       "                                              _links  \n",
       "0  {'self': {'href': '/discovery/v2/events/G5vjZ9...  \n",
       "1  {'self': {'href': '/discovery/v2/events/G5vjZ9...  \n",
       "2  {'self': {'href': '/discovery/v2/events/G5vjZ9...  \n",
       "3  {'self': {'href': '/discovery/v2/events/G5vjZ9...  \n",
       "4  {'self': {'href': '/discovery/v2/events/G5vjZ9...  "
      ]
     },
     "execution_count": 33,
     "metadata": {},
     "output_type": "execute_result"
    }
   ],
   "source": [
    "# convert all_events to a dataframe\n",
    "raw_df = pd.DataFrame(all_events)\n",
    "# drop unnecessary columns\n",
    "raw_df = raw_df.drop(columns=['test', 'locale', 'images', 'promoter', '_embedded'])\n",
    "raw_df.head()"
   ]
  },
  {
   "cell_type": "code",
   "execution_count": 36,
   "metadata": {},
   "outputs": [],
   "source": [
    "# export to a csv\n",
    "raw_df.to_csv('raw_df.csv', index=False)"
   ]
  },
  {
   "cell_type": "markdown",
   "metadata": {},
   "source": [
    "# GPT-Cleaned CSV"
   ]
  },
  {
   "cell_type": "code",
   "execution_count": 56,
   "metadata": {},
   "outputs": [
    {
     "data": {
      "text/html": [
       "<div>\n",
       "<style scoped>\n",
       "    .dataframe tbody tr th:only-of-type {\n",
       "        vertical-align: middle;\n",
       "    }\n",
       "\n",
       "    .dataframe tbody tr th {\n",
       "        vertical-align: top;\n",
       "    }\n",
       "\n",
       "    .dataframe thead th {\n",
       "        text-align: right;\n",
       "    }\n",
       "</style>\n",
       "<table border=\"1\" class=\"dataframe\">\n",
       "  <thead>\n",
       "    <tr style=\"text-align: right;\">\n",
       "      <th></th>\n",
       "      <th>Group Name</th>\n",
       "      <th>Event Name</th>\n",
       "      <th>Date &amp; Time</th>\n",
       "      <th>Min Ticket Price</th>\n",
       "      <th>Max Ticket Price</th>\n",
       "    </tr>\n",
       "  </thead>\n",
       "  <tbody>\n",
       "    <tr>\n",
       "      <th>0</th>\n",
       "      <td>U2:UV Achtung</td>\n",
       "      <td>U2:UV Achtung Baby Live At Sphere - General Ad...</td>\n",
       "      <td>2024-01-28T04:00:00Z</td>\n",
       "      <td>195.0</td>\n",
       "      <td>195.0</td>\n",
       "    </tr>\n",
       "    <tr>\n",
       "      <th>1</th>\n",
       "      <td>U2:UV Achtung</td>\n",
       "      <td>U2:UV Achtung Baby Live At Sphere - General Ad...</td>\n",
       "      <td>2024-02-18T04:00:00Z</td>\n",
       "      <td>195.0</td>\n",
       "      <td>195.0</td>\n",
       "    </tr>\n",
       "    <tr>\n",
       "      <th>2</th>\n",
       "      <td>U2:UV Achtung</td>\n",
       "      <td>U2:UV Achtung Baby Live At Sphere - General Ad...</td>\n",
       "      <td>2024-01-27T04:00:00Z</td>\n",
       "      <td>195.0</td>\n",
       "      <td>195.0</td>\n",
       "    </tr>\n",
       "    <tr>\n",
       "      <th>3</th>\n",
       "      <td>U2:UV Achtung</td>\n",
       "      <td>U2:UV Achtung Baby Live At Sphere - General Ad...</td>\n",
       "      <td>2024-02-04T04:00:00Z</td>\n",
       "      <td>195.0</td>\n",
       "      <td>195.0</td>\n",
       "    </tr>\n",
       "    <tr>\n",
       "      <th>4</th>\n",
       "      <td>U2:UV Achtung</td>\n",
       "      <td>U2:UV Achtung Baby Live At Sphere - General Ad...</td>\n",
       "      <td>2024-03-03T04:00:00Z</td>\n",
       "      <td>195.0</td>\n",
       "      <td>195.0</td>\n",
       "    </tr>\n",
       "  </tbody>\n",
       "</table>\n",
       "</div>"
      ],
      "text/plain": [
       "      Group Name                                         Event Name  \\\n",
       "0  U2:UV Achtung  U2:UV Achtung Baby Live At Sphere - General Ad...   \n",
       "1  U2:UV Achtung  U2:UV Achtung Baby Live At Sphere - General Ad...   \n",
       "2  U2:UV Achtung  U2:UV Achtung Baby Live At Sphere - General Ad...   \n",
       "3  U2:UV Achtung  U2:UV Achtung Baby Live At Sphere - General Ad...   \n",
       "4  U2:UV Achtung  U2:UV Achtung Baby Live At Sphere - General Ad...   \n",
       "\n",
       "            Date & Time  Min Ticket Price  Max Ticket Price  \n",
       "0  2024-01-28T04:00:00Z             195.0             195.0  \n",
       "1  2024-02-18T04:00:00Z             195.0             195.0  \n",
       "2  2024-01-27T04:00:00Z             195.0             195.0  \n",
       "3  2024-02-04T04:00:00Z             195.0             195.0  \n",
       "4  2024-03-03T04:00:00Z             195.0             195.0  "
      ]
     },
     "execution_count": 56,
     "metadata": {},
     "output_type": "execute_result"
    }
   ],
   "source": [
    "cleaned_df = pd.read_csv('gpt_df.csv')\n",
    "cleaned_df.head()"
   ]
  },
  {
   "cell_type": "code",
   "execution_count": 57,
   "metadata": {},
   "outputs": [],
   "source": [
    "# Add an Average Ticket Price Column\n",
    "cleaned_df['Average GA Ticket Price'] = (cleaned_df['Min Ticket Price'] + cleaned_df['Max Ticket Price']) / 2\n",
    "\n",
    "# Remove Min Ticket Price and Max Ticket Price Columns\n",
    "cleaned_df = cleaned_df.drop(columns=['Min Ticket Price', 'Max Ticket Price'])\n",
    "\n",
    "# Add Total Available Tickets Column\n",
    "cleaned_df['Total Ticket Units Available'] = 0"
   ]
  },
  {
   "cell_type": "code",
   "execution_count": 58,
   "metadata": {},
   "outputs": [
    {
     "data": {
      "text/html": [
       "<div>\n",
       "<style scoped>\n",
       "    .dataframe tbody tr th:only-of-type {\n",
       "        vertical-align: middle;\n",
       "    }\n",
       "\n",
       "    .dataframe tbody tr th {\n",
       "        vertical-align: top;\n",
       "    }\n",
       "\n",
       "    .dataframe thead th {\n",
       "        text-align: right;\n",
       "    }\n",
       "</style>\n",
       "<table border=\"1\" class=\"dataframe\">\n",
       "  <thead>\n",
       "    <tr style=\"text-align: right;\">\n",
       "      <th></th>\n",
       "      <th>Group Name</th>\n",
       "      <th>Event Name</th>\n",
       "      <th>Date &amp; Time</th>\n",
       "      <th>Average GA Ticket Price</th>\n",
       "      <th>Total Ticket Units Available</th>\n",
       "    </tr>\n",
       "  </thead>\n",
       "  <tbody>\n",
       "    <tr>\n",
       "      <th>0</th>\n",
       "      <td>U2:UV Achtung</td>\n",
       "      <td>U2:UV Achtung Baby Live At Sphere - General Ad...</td>\n",
       "      <td>2024-01-28T04:00:00Z</td>\n",
       "      <td>195.0</td>\n",
       "      <td>20000</td>\n",
       "    </tr>\n",
       "    <tr>\n",
       "      <th>1</th>\n",
       "      <td>U2:UV Achtung</td>\n",
       "      <td>U2:UV Achtung Baby Live At Sphere - General Ad...</td>\n",
       "      <td>2024-02-18T04:00:00Z</td>\n",
       "      <td>195.0</td>\n",
       "      <td>20000</td>\n",
       "    </tr>\n",
       "    <tr>\n",
       "      <th>2</th>\n",
       "      <td>U2:UV Achtung</td>\n",
       "      <td>U2:UV Achtung Baby Live At Sphere - General Ad...</td>\n",
       "      <td>2024-01-27T04:00:00Z</td>\n",
       "      <td>195.0</td>\n",
       "      <td>20000</td>\n",
       "    </tr>\n",
       "    <tr>\n",
       "      <th>3</th>\n",
       "      <td>U2:UV Achtung</td>\n",
       "      <td>U2:UV Achtung Baby Live At Sphere - General Ad...</td>\n",
       "      <td>2024-02-04T04:00:00Z</td>\n",
       "      <td>195.0</td>\n",
       "      <td>20000</td>\n",
       "    </tr>\n",
       "    <tr>\n",
       "      <th>4</th>\n",
       "      <td>U2:UV Achtung</td>\n",
       "      <td>U2:UV Achtung Baby Live At Sphere - General Ad...</td>\n",
       "      <td>2024-03-03T04:00:00Z</td>\n",
       "      <td>195.0</td>\n",
       "      <td>20000</td>\n",
       "    </tr>\n",
       "  </tbody>\n",
       "</table>\n",
       "</div>"
      ],
      "text/plain": [
       "      Group Name                                         Event Name  \\\n",
       "0  U2:UV Achtung  U2:UV Achtung Baby Live At Sphere - General Ad...   \n",
       "1  U2:UV Achtung  U2:UV Achtung Baby Live At Sphere - General Ad...   \n",
       "2  U2:UV Achtung  U2:UV Achtung Baby Live At Sphere - General Ad...   \n",
       "3  U2:UV Achtung  U2:UV Achtung Baby Live At Sphere - General Ad...   \n",
       "4  U2:UV Achtung  U2:UV Achtung Baby Live At Sphere - General Ad...   \n",
       "\n",
       "            Date & Time  Average GA Ticket Price  Total Ticket Units Available  \n",
       "0  2024-01-28T04:00:00Z                    195.0                         20000  \n",
       "1  2024-02-18T04:00:00Z                    195.0                         20000  \n",
       "2  2024-01-27T04:00:00Z                    195.0                         20000  \n",
       "3  2024-02-04T04:00:00Z                    195.0                         20000  \n",
       "4  2024-03-03T04:00:00Z                    195.0                         20000  "
      ]
     },
     "execution_count": 58,
     "metadata": {},
     "output_type": "execute_result"
    }
   ],
   "source": [
    "# In columns where the Group Name is 'The Sphere', set the Total Tickets to 5000 and set it to 20000 otherwise\n",
    "cleaned_df.loc[cleaned_df['Group Name'] == 'The Sphere', 'Total Ticket Units Available'] = 5000\n",
    "cleaned_df.loc[cleaned_df['Group Name'] != 'The Sphere', 'Total Ticket Units Available'] = 20000\n",
    "\n",
    "cleaned_df.head()"
   ]
  },
  {
   "cell_type": "code",
   "execution_count": 59,
   "metadata": {},
   "outputs": [
    {
     "data": {
      "text/html": [
       "<div>\n",
       "<style scoped>\n",
       "    .dataframe tbody tr th:only-of-type {\n",
       "        vertical-align: middle;\n",
       "    }\n",
       "\n",
       "    .dataframe tbody tr th {\n",
       "        vertical-align: top;\n",
       "    }\n",
       "\n",
       "    .dataframe thead th {\n",
       "        text-align: right;\n",
       "    }\n",
       "</style>\n",
       "<table border=\"1\" class=\"dataframe\">\n",
       "  <thead>\n",
       "    <tr style=\"text-align: right;\">\n",
       "      <th></th>\n",
       "      <th>Group Name</th>\n",
       "      <th>Event Name</th>\n",
       "      <th>Date &amp; Time</th>\n",
       "      <th>Average GA Ticket Price</th>\n",
       "      <th>Total Ticket Units Available</th>\n",
       "      <th>Aggregate Ticket Value</th>\n",
       "    </tr>\n",
       "  </thead>\n",
       "  <tbody>\n",
       "    <tr>\n",
       "      <th>0</th>\n",
       "      <td>U2:UV Achtung</td>\n",
       "      <td>U2:UV Achtung Baby Live At Sphere - General Ad...</td>\n",
       "      <td>2024-01-28T04:00:00Z</td>\n",
       "      <td>195.0</td>\n",
       "      <td>20000</td>\n",
       "      <td>3900000.0</td>\n",
       "    </tr>\n",
       "    <tr>\n",
       "      <th>1</th>\n",
       "      <td>U2:UV Achtung</td>\n",
       "      <td>U2:UV Achtung Baby Live At Sphere - General Ad...</td>\n",
       "      <td>2024-02-18T04:00:00Z</td>\n",
       "      <td>195.0</td>\n",
       "      <td>20000</td>\n",
       "      <td>3900000.0</td>\n",
       "    </tr>\n",
       "    <tr>\n",
       "      <th>2</th>\n",
       "      <td>U2:UV Achtung</td>\n",
       "      <td>U2:UV Achtung Baby Live At Sphere - General Ad...</td>\n",
       "      <td>2024-01-27T04:00:00Z</td>\n",
       "      <td>195.0</td>\n",
       "      <td>20000</td>\n",
       "      <td>3900000.0</td>\n",
       "    </tr>\n",
       "    <tr>\n",
       "      <th>3</th>\n",
       "      <td>U2:UV Achtung</td>\n",
       "      <td>U2:UV Achtung Baby Live At Sphere - General Ad...</td>\n",
       "      <td>2024-02-04T04:00:00Z</td>\n",
       "      <td>195.0</td>\n",
       "      <td>20000</td>\n",
       "      <td>3900000.0</td>\n",
       "    </tr>\n",
       "    <tr>\n",
       "      <th>4</th>\n",
       "      <td>U2:UV Achtung</td>\n",
       "      <td>U2:UV Achtung Baby Live At Sphere - General Ad...</td>\n",
       "      <td>2024-03-03T04:00:00Z</td>\n",
       "      <td>195.0</td>\n",
       "      <td>20000</td>\n",
       "      <td>3900000.0</td>\n",
       "    </tr>\n",
       "  </tbody>\n",
       "</table>\n",
       "</div>"
      ],
      "text/plain": [
       "      Group Name                                         Event Name  \\\n",
       "0  U2:UV Achtung  U2:UV Achtung Baby Live At Sphere - General Ad...   \n",
       "1  U2:UV Achtung  U2:UV Achtung Baby Live At Sphere - General Ad...   \n",
       "2  U2:UV Achtung  U2:UV Achtung Baby Live At Sphere - General Ad...   \n",
       "3  U2:UV Achtung  U2:UV Achtung Baby Live At Sphere - General Ad...   \n",
       "4  U2:UV Achtung  U2:UV Achtung Baby Live At Sphere - General Ad...   \n",
       "\n",
       "            Date & Time  Average GA Ticket Price  \\\n",
       "0  2024-01-28T04:00:00Z                    195.0   \n",
       "1  2024-02-18T04:00:00Z                    195.0   \n",
       "2  2024-01-27T04:00:00Z                    195.0   \n",
       "3  2024-02-04T04:00:00Z                    195.0   \n",
       "4  2024-03-03T04:00:00Z                    195.0   \n",
       "\n",
       "   Total Ticket Units Available  Aggregate Ticket Value  \n",
       "0                         20000               3900000.0  \n",
       "1                         20000               3900000.0  \n",
       "2                         20000               3900000.0  \n",
       "3                         20000               3900000.0  \n",
       "4                         20000               3900000.0  "
      ]
     },
     "execution_count": 59,
     "metadata": {},
     "output_type": "execute_result"
    }
   ],
   "source": [
    "# Calculate aggregate ticket value\n",
    "\n",
    "cleaned_df['Aggregate Ticket Value'] = cleaned_df['Total Ticket Units Available'] * cleaned_df['Average GA Ticket Price']\n",
    "\n",
    "cleaned_df.head()"
   ]
  },
  {
   "cell_type": "code",
   "execution_count": 60,
   "metadata": {},
   "outputs": [
    {
     "data": {
      "text/html": [
       "<div>\n",
       "<style scoped>\n",
       "    .dataframe tbody tr th:only-of-type {\n",
       "        vertical-align: middle;\n",
       "    }\n",
       "\n",
       "    .dataframe tbody tr th {\n",
       "        vertical-align: top;\n",
       "    }\n",
       "\n",
       "    .dataframe thead th {\n",
       "        text-align: right;\n",
       "    }\n",
       "</style>\n",
       "<table border=\"1\" class=\"dataframe\">\n",
       "  <thead>\n",
       "    <tr style=\"text-align: right;\">\n",
       "      <th></th>\n",
       "      <th>Group Name</th>\n",
       "      <th>Event Name</th>\n",
       "      <th>Date &amp; Time</th>\n",
       "      <th>Average GA Ticket Price</th>\n",
       "      <th>Total Ticket Units Available</th>\n",
       "      <th>Aggregate Ticket Value</th>\n",
       "    </tr>\n",
       "  </thead>\n",
       "  <tbody>\n",
       "    <tr>\n",
       "      <th>0</th>\n",
       "      <td>U2 Residence</td>\n",
       "      <td>U2:UV Achtung Baby Live At Sphere - General Ad...</td>\n",
       "      <td>2024-01-28T04:00:00Z</td>\n",
       "      <td>195.0</td>\n",
       "      <td>20000</td>\n",
       "      <td>3900000.0</td>\n",
       "    </tr>\n",
       "    <tr>\n",
       "      <th>1</th>\n",
       "      <td>U2 Residence</td>\n",
       "      <td>U2:UV Achtung Baby Live At Sphere - General Ad...</td>\n",
       "      <td>2024-02-18T04:00:00Z</td>\n",
       "      <td>195.0</td>\n",
       "      <td>20000</td>\n",
       "      <td>3900000.0</td>\n",
       "    </tr>\n",
       "    <tr>\n",
       "      <th>2</th>\n",
       "      <td>U2 Residence</td>\n",
       "      <td>U2:UV Achtung Baby Live At Sphere - General Ad...</td>\n",
       "      <td>2024-01-27T04:00:00Z</td>\n",
       "      <td>195.0</td>\n",
       "      <td>20000</td>\n",
       "      <td>3900000.0</td>\n",
       "    </tr>\n",
       "    <tr>\n",
       "      <th>3</th>\n",
       "      <td>U2 Residence</td>\n",
       "      <td>U2:UV Achtung Baby Live At Sphere - General Ad...</td>\n",
       "      <td>2024-02-04T04:00:00Z</td>\n",
       "      <td>195.0</td>\n",
       "      <td>20000</td>\n",
       "      <td>3900000.0</td>\n",
       "    </tr>\n",
       "    <tr>\n",
       "      <th>4</th>\n",
       "      <td>U2 Residence</td>\n",
       "      <td>U2:UV Achtung Baby Live At Sphere - General Ad...</td>\n",
       "      <td>2024-03-03T04:00:00Z</td>\n",
       "      <td>195.0</td>\n",
       "      <td>20000</td>\n",
       "      <td>3900000.0</td>\n",
       "    </tr>\n",
       "  </tbody>\n",
       "</table>\n",
       "</div>"
      ],
      "text/plain": [
       "     Group Name                                         Event Name  \\\n",
       "0  U2 Residence  U2:UV Achtung Baby Live At Sphere - General Ad...   \n",
       "1  U2 Residence  U2:UV Achtung Baby Live At Sphere - General Ad...   \n",
       "2  U2 Residence  U2:UV Achtung Baby Live At Sphere - General Ad...   \n",
       "3  U2 Residence  U2:UV Achtung Baby Live At Sphere - General Ad...   \n",
       "4  U2 Residence  U2:UV Achtung Baby Live At Sphere - General Ad...   \n",
       "\n",
       "            Date & Time  Average GA Ticket Price  \\\n",
       "0  2024-01-28T04:00:00Z                    195.0   \n",
       "1  2024-02-18T04:00:00Z                    195.0   \n",
       "2  2024-01-27T04:00:00Z                    195.0   \n",
       "3  2024-02-04T04:00:00Z                    195.0   \n",
       "4  2024-03-03T04:00:00Z                    195.0   \n",
       "\n",
       "   Total Ticket Units Available  Aggregate Ticket Value  \n",
       "0                         20000               3900000.0  \n",
       "1                         20000               3900000.0  \n",
       "2                         20000               3900000.0  \n",
       "3                         20000               3900000.0  \n",
       "4                         20000               3900000.0  "
      ]
     },
     "execution_count": 60,
     "metadata": {},
     "output_type": "execute_result"
    }
   ],
   "source": [
    "group_names = cleaned_df['Group Name'].unique()\n",
    "\n",
    "cleaned_group_names = {\n",
    "    'U2:UV Achtung': 'U2 Residence',\n",
    "    'The Sphere': 'Postcards'\n",
    "}\n",
    "\n",
    "for group_name in group_names:\n",
    "    if group_name not in cleaned_group_names:\n",
    "        cleaned_group_names[group_name] = group_name\n",
    "\n",
    "cleaned_df['Group Name'] = cleaned_df['Group Name'].apply(lambda x: cleaned_group_names[x])\n",
    "\n",
    "cleaned_df.head()"
   ]
  },
  {
   "cell_type": "code",
   "execution_count": 61,
   "metadata": {},
   "outputs": [],
   "source": [
    "# export to excel\n",
    "cleaned_df.to_excel('sphr_visible_event_data_v1.xlsx', index=False)"
   ]
  },
  {
   "cell_type": "markdown",
   "metadata": {},
   "source": [
    "# Data Visualizations"
   ]
  },
  {
   "cell_type": "code",
   "execution_count": 4,
   "metadata": {},
   "outputs": [
    {
     "data": {
      "application/vnd.plotly.v1+json": {
       "config": {
        "plotlyServerURL": "https://plot.ly"
       },
       "data": [
        {
         "type": "bar",
         "x": [
          "2024-01-05",
          "2024-01-06",
          "2024-01-07",
          "2024-01-08",
          "2024-01-09",
          "2024-01-10",
          "2024-01-11",
          "2024-01-12",
          "2024-01-13",
          "2024-01-14",
          "2024-01-15",
          "2024-01-16",
          "2024-01-17",
          "2024-01-18",
          "2024-01-19",
          "2024-01-20",
          "2024-01-21",
          "2024-01-22",
          "2024-01-23",
          "2024-01-24",
          "2024-01-25",
          "2024-01-26",
          "2024-01-27",
          "2024-01-28",
          "2024-01-29",
          "2024-01-30",
          "2024-01-31",
          "2024-02-01",
          "2024-02-03",
          "2024-02-04",
          "2024-02-05",
          "2024-02-06",
          "2024-02-07",
          "2024-02-08",
          "2024-02-09",
          "2024-02-10",
          "2024-02-11",
          "2024-02-12",
          "2024-02-13",
          "2024-02-14",
          "2024-02-15",
          "2024-02-16",
          "2024-02-17",
          "2024-02-18",
          "2024-02-19",
          "2024-02-20",
          "2024-02-21",
          "2024-02-22",
          "2024-02-23",
          "2024-02-24",
          "2024-02-25",
          "2024-02-26",
          "2024-02-27",
          "2024-02-28",
          "2024-02-29",
          "2024-03-01",
          "2024-03-02",
          "2024-03-03",
          "2024-03-04",
          "2024-03-05",
          "2024-03-06",
          "2024-03-07",
          "2024-03-08",
          "2024-03-09",
          "2024-03-10",
          "2024-03-11",
          "2024-03-12",
          "2024-03-13",
          "2024-03-14",
          "2024-03-15",
          "2024-03-16",
          "2024-03-17",
          "2024-03-18",
          "2024-03-19",
          "2024-03-20",
          "2024-03-21",
          "2024-03-22",
          "2024-03-23",
          "2024-03-24",
          "2024-03-25",
          "2024-03-26",
          "2024-03-27",
          "2024-03-28",
          "2024-03-29",
          "2024-03-30",
          "2024-03-31",
          "2024-04-01",
          "2024-04-02",
          "2024-04-03",
          "2024-04-04",
          "2024-04-05",
          "2024-04-06",
          "2024-04-07",
          "2024-04-08",
          "2024-04-09",
          "2024-04-10",
          "2024-04-11",
          "2024-04-12",
          "2024-04-13",
          "2024-04-14",
          "2024-04-15",
          "2024-04-18",
          "2024-04-19",
          "2024-04-20",
          "2024-04-21",
          "2024-04-22",
          "2024-04-23",
          "2024-04-24",
          "2024-04-25",
          "2024-04-26",
          "2024-04-27",
          "2024-04-28",
          "2024-04-29",
          "2024-04-30",
          "2024-05-01",
          "2024-05-02",
          "2024-05-03",
          "2024-05-04",
          "2024-05-05",
          "2024-05-06",
          "2024-05-07",
          "2024-05-08",
          "2024-05-09",
          "2024-05-10",
          "2024-05-11",
          "2024-05-12",
          "2024-05-13",
          "2024-05-14",
          "2024-05-15",
          "2024-05-16",
          "2024-05-17",
          "2024-05-18",
          "2024-05-19",
          "2024-05-20",
          "2024-05-21",
          "2024-05-22",
          "2024-05-23",
          "2024-05-24",
          "2024-05-25",
          "2024-05-26",
          "2024-05-27",
          "2024-05-28",
          "2024-05-29",
          "2024-05-30",
          "2024-05-31",
          "2024-06-01",
          "2024-06-02",
          "2024-06-03",
          "2024-06-04",
          "2024-06-05",
          "2024-06-06",
          "2024-06-07",
          "2024-06-08",
          "2024-06-09",
          "2024-06-10",
          "2024-06-11",
          "2024-06-12",
          "2024-06-13",
          "2024-06-14",
          "2024-06-15",
          "2024-06-16",
          "2024-06-17",
          "2024-06-18",
          "2024-06-19",
          "2024-06-20",
          "2024-06-21",
          "2024-06-22",
          "2024-06-23",
          "2024-06-24",
          "2024-06-25",
          "2024-06-26",
          "2024-06-27",
          "2024-06-28",
          "2024-06-29",
          "2024-06-30",
          "2024-07-01",
          "2024-07-02",
          "2024-07-03",
          "2024-07-04",
          "2024-07-05",
          "2024-07-06",
          "2024-07-07",
          "2024-07-08",
          "2024-07-09",
          "2024-07-10",
          "2024-07-11",
          "2024-07-12",
          "2024-07-13",
          "2024-07-14",
          "2024-07-15",
          "2024-07-16",
          "2024-07-17",
          "2024-07-18",
          "2024-07-19",
          "2024-07-20",
          "2024-07-21",
          "2024-07-22",
          "2024-07-23",
          "2024-07-24",
          "2024-07-25",
          "2024-07-26",
          "2024-07-27",
          "2024-07-28",
          "2024-07-29",
          "2024-07-30",
          "2024-07-31",
          "2024-08-01",
          "2024-08-02",
          "2024-08-03",
          "2024-08-04",
          "2024-08-05",
          "2024-08-06",
          "2024-08-07",
          "2024-08-08",
          "2024-08-09",
          "2024-08-10",
          "2024-08-11",
          "2024-08-12",
          "2024-08-13",
          "2024-08-14",
          "2024-08-15",
          "2024-08-16",
          "2024-08-17",
          "2024-08-18",
          "2024-08-19",
          "2024-08-20",
          "2024-08-21",
          "2024-08-22",
          "2024-08-23",
          "2024-08-24",
          "2024-08-25",
          "2024-08-26",
          "2024-08-27",
          "2024-08-28",
          "2024-08-29",
          "2024-08-30",
          "2024-08-31",
          "2024-09-01",
          "2024-09-02",
          "2024-09-03",
          "2024-09-04",
          "2024-09-05",
          "2024-09-06",
          "2024-09-07",
          "2024-09-08",
          "2024-09-09",
          "2024-09-10",
          "2024-09-11",
          "2024-09-12",
          "2024-09-13",
          "2024-09-14",
          "2024-09-15",
          "2024-09-16",
          "2024-09-17",
          "2024-09-18",
          "2024-09-19",
          "2024-09-20",
          "2024-09-21",
          "2024-09-22",
          "2024-09-23",
          "2024-09-24",
          "2024-09-25",
          "2024-09-26",
          "2024-09-27",
          "2024-09-28",
          "2024-09-29",
          "2024-09-30",
          "2024-10-01",
          "2024-10-02",
          "2024-10-03",
          "2024-10-04",
          "2024-10-05",
          "2024-10-06",
          "2024-10-07",
          "2024-10-08",
          "2024-10-09",
          "2024-10-10",
          "2024-10-11",
          "2024-10-12",
          "2024-10-13",
          "2024-10-14",
          "2024-10-15",
          "2024-10-16",
          "2024-10-17",
          "2024-10-18",
          "2024-10-19",
          "2024-10-20",
          "2024-10-21",
          "2024-10-22",
          "2024-10-23",
          "2024-10-24",
          "2024-10-25",
          "2024-10-26",
          "2024-10-27",
          "2024-10-28",
          "2024-10-29",
          "2024-10-30",
          "2024-10-31",
          "2024-11-01",
          "2024-11-02",
          "2024-11-03",
          "2024-11-04",
          "2024-11-05",
          "2024-11-06",
          "2024-11-07",
          "2024-11-08",
          "2024-11-09",
          "2024-11-10",
          "2024-11-11",
          "2024-11-12",
          "2024-11-13",
          "2024-11-19",
          "2024-11-20",
          "2024-11-21",
          "2024-11-22",
          "2024-11-23",
          "2024-11-24",
          "2024-11-25",
          "2024-11-26",
          "2024-11-27",
          "2024-11-28",
          "2024-11-29",
          "2024-11-30",
          "2024-12-01",
          "2024-12-02",
          "2024-12-03",
          "2024-12-04",
          "2024-12-05",
          "2024-12-06",
          "2024-12-07",
          "2024-12-08",
          "2024-12-09",
          "2024-12-10",
          "2024-12-11",
          "2024-12-12",
          "2024-12-13",
          "2024-12-14",
          "2024-12-15",
          "2024-12-16",
          "2024-12-17",
          "2024-12-18",
          "2024-12-19",
          "2024-12-20",
          "2024-12-21",
          "2024-12-22",
          "2024-12-23",
          "2024-12-24",
          "2024-12-25",
          "2024-12-26",
          "2024-12-27",
          "2024-12-28",
          "2024-12-29",
          "2024-12-30",
          "2024-12-31",
          "2025-01-01",
          "2025-01-02",
          "2025-01-03",
          "2025-01-04",
          "2025-01-05",
          "2025-01-06",
          "2025-01-07",
          "2025-01-08",
          "2025-01-09",
          "2025-01-10",
          "2025-01-11",
          "2025-01-12",
          "2025-01-13",
          "2025-01-14",
          "2025-01-15",
          "2025-01-16",
          "2025-01-17",
          "2025-01-18",
          "2025-01-19",
          "2025-01-20",
          "2025-01-21",
          "2025-01-22",
          "2025-01-23",
          "2025-01-24",
          "2025-01-25",
          "2025-01-26",
          "2025-01-27"
         ],
         "y": [
          1,
          4,
          5,
          3,
          3,
          3,
          3,
          4,
          4,
          5,
          5,
          3,
          3,
          3,
          2,
          4,
          5,
          3,
          3,
          3,
          2,
          2,
          3,
          5,
          3,
          3,
          3,
          3,
          3,
          5,
          3,
          3,
          3,
          3,
          3,
          2,
          4,
          2,
          3,
          3,
          3,
          4,
          3,
          3,
          6,
          3,
          3,
          4,
          3,
          3,
          7,
          3,
          3,
          3,
          4,
          3,
          3,
          5,
          3,
          3,
          3,
          3,
          4,
          4,
          6,
          3,
          3,
          3,
          3,
          4,
          4,
          5,
          3,
          3,
          3,
          3,
          4,
          4,
          5,
          3,
          3,
          3,
          3,
          4,
          4,
          5,
          3,
          3,
          2,
          3,
          4,
          4,
          5,
          3,
          3,
          2,
          3,
          4,
          4,
          5,
          2,
          1,
          1,
          1,
          1,
          2,
          3,
          2,
          3,
          4,
          4,
          5,
          3,
          3,
          3,
          3,
          4,
          4,
          5,
          3,
          3,
          3,
          3,
          4,
          4,
          5,
          2,
          2,
          2,
          2,
          2,
          2,
          5,
          4,
          3,
          3,
          4,
          2,
          2,
          2,
          5,
          3,
          3,
          2,
          2,
          2,
          5,
          5,
          5,
          5,
          2,
          2,
          2,
          5,
          4,
          3,
          3,
          2,
          2,
          2,
          6,
          3,
          4,
          7,
          2,
          2,
          2,
          6,
          4,
          5,
          5,
          4,
          2,
          4,
          9,
          3,
          2,
          2,
          2,
          2,
          2,
          2,
          2,
          3,
          3,
          2,
          2,
          3,
          2,
          3,
          3,
          3,
          3,
          3,
          4,
          4,
          3,
          3,
          3,
          2,
          3,
          3,
          3,
          3,
          3,
          3,
          3,
          4,
          4,
          4,
          4,
          4,
          4,
          3,
          4,
          4,
          3,
          4,
          4,
          4,
          4,
          4,
          4,
          4,
          4,
          3,
          4,
          3,
          4,
          3,
          3,
          3,
          4,
          3,
          3,
          3,
          4,
          3,
          3,
          3,
          2,
          3,
          2,
          2,
          2,
          2,
          2,
          2,
          2,
          2,
          2,
          2,
          3,
          2,
          2,
          2,
          3,
          2,
          2,
          2,
          4,
          2,
          2,
          2,
          2,
          2,
          2,
          2,
          2,
          2,
          2,
          2,
          2,
          2,
          3,
          2,
          2,
          2,
          2,
          2,
          2,
          2,
          2,
          2,
          2,
          2,
          2,
          2,
          2,
          2,
          2,
          2,
          2,
          2,
          2,
          2,
          2,
          2,
          2,
          2,
          2,
          2,
          2,
          2,
          2,
          2,
          2,
          2,
          2,
          2,
          2,
          2,
          2,
          2,
          2,
          2,
          2,
          2,
          2,
          2,
          2,
          3,
          5,
          4,
          2,
          2,
          2,
          2,
          2,
          2,
          2,
          2,
          2,
          2,
          2,
          2,
          2,
          2,
          2,
          2,
          2,
          2,
          2,
          2,
          2,
          2,
          2,
          4,
          2,
          3,
          5,
          4,
          2,
          3,
          4,
          2,
          2,
          2,
          2,
          2,
          2,
          2,
          2,
          2,
          2,
          2,
          2,
          2,
          2,
          2,
          2,
          2,
          2,
          2,
          2,
          2,
          2,
          2,
          2,
          2,
          1
         ]
        }
       ],
       "layout": {
        "template": {
         "data": {
          "bar": [
           {
            "error_x": {
             "color": "#2a3f5f"
            },
            "error_y": {
             "color": "#2a3f5f"
            },
            "marker": {
             "line": {
              "color": "#E5ECF6",
              "width": 0.5
             },
             "pattern": {
              "fillmode": "overlay",
              "size": 10,
              "solidity": 0.2
             }
            },
            "type": "bar"
           }
          ],
          "barpolar": [
           {
            "marker": {
             "line": {
              "color": "#E5ECF6",
              "width": 0.5
             },
             "pattern": {
              "fillmode": "overlay",
              "size": 10,
              "solidity": 0.2
             }
            },
            "type": "barpolar"
           }
          ],
          "carpet": [
           {
            "aaxis": {
             "endlinecolor": "#2a3f5f",
             "gridcolor": "white",
             "linecolor": "white",
             "minorgridcolor": "white",
             "startlinecolor": "#2a3f5f"
            },
            "baxis": {
             "endlinecolor": "#2a3f5f",
             "gridcolor": "white",
             "linecolor": "white",
             "minorgridcolor": "white",
             "startlinecolor": "#2a3f5f"
            },
            "type": "carpet"
           }
          ],
          "choropleth": [
           {
            "colorbar": {
             "outlinewidth": 0,
             "ticks": ""
            },
            "type": "choropleth"
           }
          ],
          "contour": [
           {
            "colorbar": {
             "outlinewidth": 0,
             "ticks": ""
            },
            "colorscale": [
             [
              0,
              "#0d0887"
             ],
             [
              0.1111111111111111,
              "#46039f"
             ],
             [
              0.2222222222222222,
              "#7201a8"
             ],
             [
              0.3333333333333333,
              "#9c179e"
             ],
             [
              0.4444444444444444,
              "#bd3786"
             ],
             [
              0.5555555555555556,
              "#d8576b"
             ],
             [
              0.6666666666666666,
              "#ed7953"
             ],
             [
              0.7777777777777778,
              "#fb9f3a"
             ],
             [
              0.8888888888888888,
              "#fdca26"
             ],
             [
              1,
              "#f0f921"
             ]
            ],
            "type": "contour"
           }
          ],
          "contourcarpet": [
           {
            "colorbar": {
             "outlinewidth": 0,
             "ticks": ""
            },
            "type": "contourcarpet"
           }
          ],
          "heatmap": [
           {
            "colorbar": {
             "outlinewidth": 0,
             "ticks": ""
            },
            "colorscale": [
             [
              0,
              "#0d0887"
             ],
             [
              0.1111111111111111,
              "#46039f"
             ],
             [
              0.2222222222222222,
              "#7201a8"
             ],
             [
              0.3333333333333333,
              "#9c179e"
             ],
             [
              0.4444444444444444,
              "#bd3786"
             ],
             [
              0.5555555555555556,
              "#d8576b"
             ],
             [
              0.6666666666666666,
              "#ed7953"
             ],
             [
              0.7777777777777778,
              "#fb9f3a"
             ],
             [
              0.8888888888888888,
              "#fdca26"
             ],
             [
              1,
              "#f0f921"
             ]
            ],
            "type": "heatmap"
           }
          ],
          "heatmapgl": [
           {
            "colorbar": {
             "outlinewidth": 0,
             "ticks": ""
            },
            "colorscale": [
             [
              0,
              "#0d0887"
             ],
             [
              0.1111111111111111,
              "#46039f"
             ],
             [
              0.2222222222222222,
              "#7201a8"
             ],
             [
              0.3333333333333333,
              "#9c179e"
             ],
             [
              0.4444444444444444,
              "#bd3786"
             ],
             [
              0.5555555555555556,
              "#d8576b"
             ],
             [
              0.6666666666666666,
              "#ed7953"
             ],
             [
              0.7777777777777778,
              "#fb9f3a"
             ],
             [
              0.8888888888888888,
              "#fdca26"
             ],
             [
              1,
              "#f0f921"
             ]
            ],
            "type": "heatmapgl"
           }
          ],
          "histogram": [
           {
            "marker": {
             "pattern": {
              "fillmode": "overlay",
              "size": 10,
              "solidity": 0.2
             }
            },
            "type": "histogram"
           }
          ],
          "histogram2d": [
           {
            "colorbar": {
             "outlinewidth": 0,
             "ticks": ""
            },
            "colorscale": [
             [
              0,
              "#0d0887"
             ],
             [
              0.1111111111111111,
              "#46039f"
             ],
             [
              0.2222222222222222,
              "#7201a8"
             ],
             [
              0.3333333333333333,
              "#9c179e"
             ],
             [
              0.4444444444444444,
              "#bd3786"
             ],
             [
              0.5555555555555556,
              "#d8576b"
             ],
             [
              0.6666666666666666,
              "#ed7953"
             ],
             [
              0.7777777777777778,
              "#fb9f3a"
             ],
             [
              0.8888888888888888,
              "#fdca26"
             ],
             [
              1,
              "#f0f921"
             ]
            ],
            "type": "histogram2d"
           }
          ],
          "histogram2dcontour": [
           {
            "colorbar": {
             "outlinewidth": 0,
             "ticks": ""
            },
            "colorscale": [
             [
              0,
              "#0d0887"
             ],
             [
              0.1111111111111111,
              "#46039f"
             ],
             [
              0.2222222222222222,
              "#7201a8"
             ],
             [
              0.3333333333333333,
              "#9c179e"
             ],
             [
              0.4444444444444444,
              "#bd3786"
             ],
             [
              0.5555555555555556,
              "#d8576b"
             ],
             [
              0.6666666666666666,
              "#ed7953"
             ],
             [
              0.7777777777777778,
              "#fb9f3a"
             ],
             [
              0.8888888888888888,
              "#fdca26"
             ],
             [
              1,
              "#f0f921"
             ]
            ],
            "type": "histogram2dcontour"
           }
          ],
          "mesh3d": [
           {
            "colorbar": {
             "outlinewidth": 0,
             "ticks": ""
            },
            "type": "mesh3d"
           }
          ],
          "parcoords": [
           {
            "line": {
             "colorbar": {
              "outlinewidth": 0,
              "ticks": ""
             }
            },
            "type": "parcoords"
           }
          ],
          "pie": [
           {
            "automargin": true,
            "type": "pie"
           }
          ],
          "scatter": [
           {
            "fillpattern": {
             "fillmode": "overlay",
             "size": 10,
             "solidity": 0.2
            },
            "type": "scatter"
           }
          ],
          "scatter3d": [
           {
            "line": {
             "colorbar": {
              "outlinewidth": 0,
              "ticks": ""
             }
            },
            "marker": {
             "colorbar": {
              "outlinewidth": 0,
              "ticks": ""
             }
            },
            "type": "scatter3d"
           }
          ],
          "scattercarpet": [
           {
            "marker": {
             "colorbar": {
              "outlinewidth": 0,
              "ticks": ""
             }
            },
            "type": "scattercarpet"
           }
          ],
          "scattergeo": [
           {
            "marker": {
             "colorbar": {
              "outlinewidth": 0,
              "ticks": ""
             }
            },
            "type": "scattergeo"
           }
          ],
          "scattergl": [
           {
            "marker": {
             "colorbar": {
              "outlinewidth": 0,
              "ticks": ""
             }
            },
            "type": "scattergl"
           }
          ],
          "scattermapbox": [
           {
            "marker": {
             "colorbar": {
              "outlinewidth": 0,
              "ticks": ""
             }
            },
            "type": "scattermapbox"
           }
          ],
          "scatterpolar": [
           {
            "marker": {
             "colorbar": {
              "outlinewidth": 0,
              "ticks": ""
             }
            },
            "type": "scatterpolar"
           }
          ],
          "scatterpolargl": [
           {
            "marker": {
             "colorbar": {
              "outlinewidth": 0,
              "ticks": ""
             }
            },
            "type": "scatterpolargl"
           }
          ],
          "scatterternary": [
           {
            "marker": {
             "colorbar": {
              "outlinewidth": 0,
              "ticks": ""
             }
            },
            "type": "scatterternary"
           }
          ],
          "surface": [
           {
            "colorbar": {
             "outlinewidth": 0,
             "ticks": ""
            },
            "colorscale": [
             [
              0,
              "#0d0887"
             ],
             [
              0.1111111111111111,
              "#46039f"
             ],
             [
              0.2222222222222222,
              "#7201a8"
             ],
             [
              0.3333333333333333,
              "#9c179e"
             ],
             [
              0.4444444444444444,
              "#bd3786"
             ],
             [
              0.5555555555555556,
              "#d8576b"
             ],
             [
              0.6666666666666666,
              "#ed7953"
             ],
             [
              0.7777777777777778,
              "#fb9f3a"
             ],
             [
              0.8888888888888888,
              "#fdca26"
             ],
             [
              1,
              "#f0f921"
             ]
            ],
            "type": "surface"
           }
          ],
          "table": [
           {
            "cells": {
             "fill": {
              "color": "#EBF0F8"
             },
             "line": {
              "color": "white"
             }
            },
            "header": {
             "fill": {
              "color": "#C8D4E3"
             },
             "line": {
              "color": "white"
             }
            },
            "type": "table"
           }
          ]
         },
         "layout": {
          "annotationdefaults": {
           "arrowcolor": "#2a3f5f",
           "arrowhead": 0,
           "arrowwidth": 1
          },
          "autotypenumbers": "strict",
          "coloraxis": {
           "colorbar": {
            "outlinewidth": 0,
            "ticks": ""
           }
          },
          "colorscale": {
           "diverging": [
            [
             0,
             "#8e0152"
            ],
            [
             0.1,
             "#c51b7d"
            ],
            [
             0.2,
             "#de77ae"
            ],
            [
             0.3,
             "#f1b6da"
            ],
            [
             0.4,
             "#fde0ef"
            ],
            [
             0.5,
             "#f7f7f7"
            ],
            [
             0.6,
             "#e6f5d0"
            ],
            [
             0.7,
             "#b8e186"
            ],
            [
             0.8,
             "#7fbc41"
            ],
            [
             0.9,
             "#4d9221"
            ],
            [
             1,
             "#276419"
            ]
           ],
           "sequential": [
            [
             0,
             "#0d0887"
            ],
            [
             0.1111111111111111,
             "#46039f"
            ],
            [
             0.2222222222222222,
             "#7201a8"
            ],
            [
             0.3333333333333333,
             "#9c179e"
            ],
            [
             0.4444444444444444,
             "#bd3786"
            ],
            [
             0.5555555555555556,
             "#d8576b"
            ],
            [
             0.6666666666666666,
             "#ed7953"
            ],
            [
             0.7777777777777778,
             "#fb9f3a"
            ],
            [
             0.8888888888888888,
             "#fdca26"
            ],
            [
             1,
             "#f0f921"
            ]
           ],
           "sequentialminus": [
            [
             0,
             "#0d0887"
            ],
            [
             0.1111111111111111,
             "#46039f"
            ],
            [
             0.2222222222222222,
             "#7201a8"
            ],
            [
             0.3333333333333333,
             "#9c179e"
            ],
            [
             0.4444444444444444,
             "#bd3786"
            ],
            [
             0.5555555555555556,
             "#d8576b"
            ],
            [
             0.6666666666666666,
             "#ed7953"
            ],
            [
             0.7777777777777778,
             "#fb9f3a"
            ],
            [
             0.8888888888888888,
             "#fdca26"
            ],
            [
             1,
             "#f0f921"
            ]
           ]
          },
          "colorway": [
           "#636efa",
           "#EF553B",
           "#00cc96",
           "#ab63fa",
           "#FFA15A",
           "#19d3f3",
           "#FF6692",
           "#B6E880",
           "#FF97FF",
           "#FECB52"
          ],
          "font": {
           "color": "#2a3f5f"
          },
          "geo": {
           "bgcolor": "white",
           "lakecolor": "white",
           "landcolor": "#E5ECF6",
           "showlakes": true,
           "showland": true,
           "subunitcolor": "white"
          },
          "hoverlabel": {
           "align": "left"
          },
          "hovermode": "closest",
          "mapbox": {
           "style": "light"
          },
          "paper_bgcolor": "white",
          "plot_bgcolor": "#E5ECF6",
          "polar": {
           "angularaxis": {
            "gridcolor": "white",
            "linecolor": "white",
            "ticks": ""
           },
           "bgcolor": "#E5ECF6",
           "radialaxis": {
            "gridcolor": "white",
            "linecolor": "white",
            "ticks": ""
           }
          },
          "scene": {
           "xaxis": {
            "backgroundcolor": "#E5ECF6",
            "gridcolor": "white",
            "gridwidth": 2,
            "linecolor": "white",
            "showbackground": true,
            "ticks": "",
            "zerolinecolor": "white"
           },
           "yaxis": {
            "backgroundcolor": "#E5ECF6",
            "gridcolor": "white",
            "gridwidth": 2,
            "linecolor": "white",
            "showbackground": true,
            "ticks": "",
            "zerolinecolor": "white"
           },
           "zaxis": {
            "backgroundcolor": "#E5ECF6",
            "gridcolor": "white",
            "gridwidth": 2,
            "linecolor": "white",
            "showbackground": true,
            "ticks": "",
            "zerolinecolor": "white"
           }
          },
          "shapedefaults": {
           "line": {
            "color": "#2a3f5f"
           }
          },
          "ternary": {
           "aaxis": {
            "gridcolor": "white",
            "linecolor": "white",
            "ticks": ""
           },
           "baxis": {
            "gridcolor": "white",
            "linecolor": "white",
            "ticks": ""
           },
           "bgcolor": "#E5ECF6",
           "caxis": {
            "gridcolor": "white",
            "linecolor": "white",
            "ticks": ""
           }
          },
          "title": {
           "x": 0.05
          },
          "xaxis": {
           "automargin": true,
           "gridcolor": "white",
           "linecolor": "white",
           "ticks": "",
           "title": {
            "standoff": 15
           },
           "zerolinecolor": "white",
           "zerolinewidth": 2
          },
          "yaxis": {
           "automargin": true,
           "gridcolor": "white",
           "linecolor": "white",
           "ticks": "",
           "title": {
            "standoff": 15
           },
           "zerolinecolor": "white",
           "zerolinewidth": 2
          }
         }
        },
        "title": {
         "text": "Events per Day"
        },
        "xaxis": {
         "title": {
          "text": "Date"
         }
        },
        "yaxis": {
         "title": {
          "text": "Number of Events"
         }
        }
       }
      }
     },
     "metadata": {},
     "output_type": "display_data"
    }
   ],
   "source": [
    "df = pd.read_excel('sphr_visible_event_data_v1.xlsx')\n",
    "\n",
    "df['Date & Time'] = pd.to_datetime(df['Date & Time'], utc=True)\n",
    "# Extracting just the date part\n",
    "df['Event Date'] = df['Date & Time'].dt.date\n",
    "\n",
    "# Counting events per day\n",
    "events_per_day = df['Event Date'].value_counts().sort_index()\n",
    "\n",
    "# Plotting the distribution as a bar chart\n",
    "fig = go.Figure(data=[go.Bar(x=events_per_day.index, y=events_per_day.values)])\n",
    "fig.update_layout(title='Events per Day', xaxis_title='Date', yaxis_title='Number of Events')\n",
    "fig.show()"
   ]
  },
  {
   "cell_type": "code",
   "execution_count": null,
   "metadata": {},
   "outputs": [],
   "source": []
  }
 ],
 "metadata": {
  "kernelspec": {
   "display_name": "Python 3",
   "language": "python",
   "name": "python3"
  },
  "language_info": {
   "codemirror_mode": {
    "name": "ipython",
    "version": 3
   },
   "file_extension": ".py",
   "mimetype": "text/x-python",
   "name": "python",
   "nbconvert_exporter": "python",
   "pygments_lexer": "ipython3",
   "version": "3.9.12"
  }
 },
 "nbformat": 4,
 "nbformat_minor": 2
}
